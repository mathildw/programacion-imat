{
 "cells": [
  {
   "cell_type": "markdown",
   "id": "c5bf7333",
   "metadata": {},
   "source": [
    "Esto es un ejemplo de un programa básico que muestre el texto \"Hola\""
   ]
  },
  {
   "cell_type": "code",
   "execution_count": 32,
   "id": "3e36ac3d",
   "metadata": {},
   "outputs": [
    {
     "name": "stdout",
     "output_type": "stream",
     "text": [
      "Hola\n"
     ]
    }
   ],
   "source": [
    "print(\"Hola\")"
   ]
  },
  {
   "cell_type": "markdown",
   "id": "4785db1d",
   "metadata": {},
   "source": [
    "Este otro programa suma 2 números"
   ]
  },
  {
   "cell_type": "code",
   "execution_count": 33,
   "id": "309f1642",
   "metadata": {},
   "outputs": [
    {
     "data": {
      "text/plain": [
       "10"
      ]
     },
     "execution_count": 33,
     "metadata": {},
     "output_type": "execute_result"
    }
   ],
   "source": [
    "4+6"
   ]
  },
  {
   "cell_type": "markdown",
   "id": "87308671",
   "metadata": {},
   "source": [
    "Este programa convierte el número decimal 235 a binario"
   ]
  },
  {
   "cell_type": "code",
   "execution_count": 37,
   "id": "d874570c",
   "metadata": {},
   "outputs": [
    {
     "data": {
      "text/plain": [
       "'0b11101011'"
      ]
     },
     "execution_count": 37,
     "metadata": {},
     "output_type": "execute_result"
    }
   ],
   "source": [
    "bin(235)"
   ]
  },
  {
   "cell_type": "markdown",
   "id": "6d503583",
   "metadata": {},
   "source": [
    "Programa que convierte el número binario 01001110 a decimal"
   ]
  },
  {
   "cell_type": "code",
   "execution_count": 36,
   "id": "4aab4389",
   "metadata": {},
   "outputs": [
    {
     "data": {
      "text/plain": [
       "78"
      ]
     },
     "execution_count": 36,
     "metadata": {},
     "output_type": "execute_result"
    }
   ],
   "source": [
    "int(\"01001110\", 2)"
   ]
  },
  {
   "cell_type": "markdown",
   "id": "94d97fc6",
   "metadata": {},
   "source": [
    "Programa que realiza el proceso inverso"
   ]
  },
  {
   "cell_type": "code",
   "execution_count": 38,
   "id": "9cc06000",
   "metadata": {},
   "outputs": [
    {
     "data": {
      "text/plain": [
       "'0b1001110'"
      ]
     },
     "execution_count": 38,
     "metadata": {},
     "output_type": "execute_result"
    }
   ],
   "source": [
    "bin(78)"
   ]
  },
  {
   "cell_type": "markdown",
   "id": "7c0f8964",
   "metadata": {},
   "source": [
    "Un número binario se puede ver siempre como un número hexadecimal para simplificarlo, diviendolo en bloques de 4 bits: \"0100\" y \"1110\"."
   ]
  },
  {
   "cell_type": "code",
   "execution_count": 40,
   "id": "2fe2a9c0",
   "metadata": {},
   "outputs": [
    {
     "data": {
      "text/plain": [
       "4"
      ]
     },
     "execution_count": 40,
     "metadata": {},
     "output_type": "execute_result"
    }
   ],
   "source": [
    "int(\"0100\", 2)"
   ]
  },
  {
   "cell_type": "markdown",
   "id": "fee5a9a9",
   "metadata": {},
   "source": [
    "El número 4 decimal equivale al 4 hexadecimal. \n",
    "\n",
    "Convertimos el segundo bloque de 4 bits a decimal..."
   ]
  },
  {
   "cell_type": "code",
   "execution_count": 41,
   "id": "e8dd7e8d",
   "metadata": {},
   "outputs": [
    {
     "data": {
      "text/plain": [
       "14"
      ]
     },
     "execution_count": 41,
     "metadata": {},
     "output_type": "execute_result"
    }
   ],
   "source": [
    "int(\"1110\", 2)"
   ]
  },
  {
   "cell_type": "markdown",
   "id": "9df9af11",
   "metadata": {},
   "source": [
    "Y vemos que el \"14\" decimal se corresponde al símbolo \"E\" hexadecimal."
   ]
  },
  {
   "cell_type": "code",
   "execution_count": 42,
   "id": "e0052c43",
   "metadata": {},
   "outputs": [
    {
     "data": {
      "text/plain": [
       "'0xe'"
      ]
     },
     "execution_count": 42,
     "metadata": {},
     "output_type": "execute_result"
    }
   ],
   "source": [
    "hex(14)"
   ]
  },
  {
   "cell_type": "markdown",
   "id": "0bbfe3e7",
   "metadata": {},
   "source": [
    "Por todo ello, concluimo que el número 78 decimal se expresa en hexadecimal como \"4E\" y en binario como \"01001110\":"
   ]
  },
  {
   "cell_type": "code",
   "execution_count": 43,
   "id": "b5b8d843",
   "metadata": {},
   "outputs": [
    {
     "data": {
      "text/plain": [
       "'0x4e'"
      ]
     },
     "execution_count": 43,
     "metadata": {},
     "output_type": "execute_result"
    }
   ],
   "source": [
    "hex(78)"
   ]
  },
  {
   "cell_type": "code",
   "execution_count": 44,
   "id": "96c9e41a",
   "metadata": {},
   "outputs": [
    {
     "data": {
      "text/plain": [
       "'0b1001110'"
      ]
     },
     "execution_count": 44,
     "metadata": {},
     "output_type": "execute_result"
    }
   ],
   "source": [
    "bin(78)"
   ]
  }
 ],
 "metadata": {
  "kernelspec": {
   "display_name": "Python 3 (ipykernel)",
   "language": "python",
   "name": "python3"
  },
  "language_info": {
   "codemirror_mode": {
    "name": "ipython",
    "version": 3
   },
   "file_extension": ".py",
   "mimetype": "text/x-python",
   "name": "python",
   "nbconvert_exporter": "python",
   "pygments_lexer": "ipython3",
   "version": "3.9.13"
  }
 },
 "nbformat": 4,
 "nbformat_minor": 5
}
