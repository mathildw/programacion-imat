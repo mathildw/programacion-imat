{
 "cells": [
  {
   "cell_type": "markdown",
   "metadata": {},
   "source": [
    "![Logo iMAT Retos](logo_retos.jpg)\n",
    "\n",
    "# Reto 1. Bucles (Tema 3)\n",
    "\n",
    "Crear los retos que se describen a continuación."
   ]
  },
  {
   "cell_type": "markdown",
   "metadata": {},
   "source": [
    "**Objetivos**: \n",
    "- Dominar el almacenamiento de datos en variables.\n",
    "- Dominar las estructuras de control if y while."
   ]
  },
  {
   "cell_type": "markdown",
   "metadata": {},
   "source": [
    "Se programarán las soluciones en este mismo Notebook en la celda que se suministra al efecto.\n",
    "\n",
    "**IMPORTANTE**\n",
    "\n",
    "Cuando trabajamos con bucles es muy fácil crear bucles infinitos, es decir, bucles que no terminan nunca porque no se llega a cumplir la condición de parada. La forma de parar la ejecución infinita de una celda es pulsando en el botón de parar ejecución (en VSC a la izquierda de la celda y en Jupyter en la parte superior)."
   ]
  },
  {
   "cell_type": "markdown",
   "metadata": {},
   "source": [
    "## Cálculo del número Pi\n",
    "\n",
    "La serie de **Nilakantha** es una serie infinita que se utiliza para la aproximación del número Pi:\n",
    "\n",
    "$\\pi = 3 + \\frac{4}{2·3·4} - \\frac{4}{4·5·6} + \\frac{4}{6·7·8} - \\frac{4}{8·9·10} + \\frac{4}{10·11·12} - \\frac{4}{12·13·14} ...$\n",
    "\n",
    "El tema de series será visto ampliamente en la asignatura de Análisis Matemático.\n",
    "\n",
    "**Solución en las celdas siguientes a cada apartado**\n",
    "\n",
    "**Se pide**\n",
    "\n",
    "a) Copia la serie y genera el número Pi manualmente con los **2** primeros términos mediante una operación artimética Python."
   ]
  },
  {
   "cell_type": "code",
   "execution_count": 2,
   "metadata": {},
   "outputs": [
    {
     "name": "stdout",
     "output_type": "stream",
     "text": [
      "3.1333333333333333\n"
     ]
    }
   ],
   "source": []
  },
  {
   "cell_type": "code",
   "execution_count": 12,
   "metadata": {},
   "outputs": [
    {
     "name": "stdout",
     "output_type": "stream",
     "text": [
      "3.1333333333333333\n",
      "0.0004239082336425781\n"
     ]
    }
   ],
   "source": [
    "import time \n",
    "\n",
    "t_beg=time.time() \n",
    "pi =3\n",
    "numerator = 4 \n",
    "minus_count=2\n",
    "i=2\n",
    "\n",
    "number_of_terms_wanted=2\n",
    "\n",
    "while i<=2*number_of_terms_wanted:\n",
    "    pi = pi + (-1)**(minus_count)*numerator/(i*(i+1)*(i+2))\n",
    "    i+=2\n",
    "    minus_count+=1\n",
    "\n",
    "print(pi)\n",
    "\n",
    "t_end = time.time()-t_beg\n",
    "print(t_end)\n"
   ]
  },
  {
   "cell_type": "code",
   "execution_count": 11,
   "metadata": {},
   "outputs": [
    {
     "name": "stdout",
     "output_type": "stream",
     "text": [
      "3.1333333333333333\n",
      "0.002646923065185547\n"
     ]
    }
   ],
   "source": [
    "\n",
    "import time \n",
    "\n",
    "t_beg=time.time() \n",
    "\n",
    "pi = 3 + 4/(2*3*4)-4/(4*5*6)\n",
    "print(pi)\n",
    "\n",
    "t_end = time.time()-t_beg\n",
    "print(t_end)"
   ]
  },
  {
   "cell_type": "markdown",
   "metadata": {},
   "source": [
    "b) Copia la serie y genera el número Pi manualmente con los **4** primeros términos mediante una operación artimética Python."
   ]
  },
  {
   "cell_type": "code",
   "execution_count": 13,
   "metadata": {},
   "outputs": [
    {
     "name": "stdout",
     "output_type": "stream",
     "text": [
      "3.1396825396825396\n",
      "0.0004971027374267578\n"
     ]
    }
   ],
   "source": [
    "import time \n",
    "\n",
    "t_beg=time.time() \n",
    "\n",
    "pi =3\n",
    "numerator = 4 \n",
    "minus_count=2\n",
    "i=2\n",
    "\n",
    "number_of_terms_wanted=4\n",
    "\n",
    "while i<=2*number_of_terms_wanted:\n",
    "    pi = pi + (-1)**(minus_count)*numerator/(i*(i+1)*(i+2))\n",
    "    i+=2\n",
    "    minus_count+=1\n",
    "\n",
    "print(pi)\n",
    "\n",
    "t_end = time.time()-t_beg\n",
    "print(t_end)"
   ]
  },
  {
   "cell_type": "code",
   "execution_count": 16,
   "metadata": {},
   "outputs": [
    {
     "name": "stdout",
     "output_type": "stream",
     "text": [
      "3.1396825396825396\n",
      "0.00014901161193847656\n"
     ]
    }
   ],
   "source": [
    "import time \n",
    "\n",
    "t_beg=time.time()\n",
    "\n",
    "pi = 3 + 4/(2*3*4)-4/(4*5*6)+4/(6*7*8)-4/(8*9*10)\n",
    "print(pi)\n",
    "\n",
    "t_end = time.time()-t_beg\n",
    "print(t_end)\n"
   ]
  },
  {
   "cell_type": "markdown",
   "metadata": {},
   "source": [
    "c) Copia la serie y genera el número Pi manualmente con los **6** primeros términos mediante una operación artimética Python."
   ]
  },
  {
   "cell_type": "code",
   "execution_count": 17,
   "metadata": {},
   "outputs": [
    {
     "name": "stdout",
     "output_type": "stream",
     "text": [
      "3.1408813408813407\n",
      "0.0003628730773925781\n"
     ]
    }
   ],
   "source": [
    "import time \n",
    "\n",
    "t_beg=time.time() \n",
    "\n",
    "pi =3\n",
    "numerator = 4 \n",
    "minus_count=2\n",
    "i=2\n",
    "\n",
    "number_of_terms_wanted=6\n",
    "\n",
    "\n",
    "while i<=2*number_of_terms_wanted:\n",
    "    pi = pi + (-1)**(minus_count)*numerator/(i*(i+1)*(i+2))\n",
    "    i+=2\n",
    "    minus_count+=1\n",
    "\n",
    "print(pi)\n",
    "\n",
    "t_end = time.time()-t_beg\n",
    "print(t_end)"
   ]
  },
  {
   "cell_type": "code",
   "execution_count": 18,
   "metadata": {},
   "outputs": [
    {
     "name": "stdout",
     "output_type": "stream",
     "text": [
      "3.1408813408813407\n",
      "0.0009770393371582031\n"
     ]
    }
   ],
   "source": [
    "import time \n",
    "\n",
    "t_beg=time.time()\n",
    "\n",
    "pi = 3 + 4/(2*3*4)-4/(4*5*6)+4/(6*7*8)-4/(8*9*10)+4/(10*11*12)-4/(12*13*14)\n",
    "print(pi)\n",
    "\n",
    "t_end = time.time()-t_beg\n",
    "print(t_end)"
   ]
  },
  {
   "cell_type": "markdown",
   "metadata": {},
   "source": [
    "d) Implementa un programa que genere la serie mediante un bucle realizando las iteraciones que el usuario desee (inicializando la variable solamente, sin pedir por teclado). A continuación ve comprobando que el resultado coincide con el de los términos elegidos anteriormente. ¿Cuál es el número Pi obtenido después de 20 iteraciones?"
   ]
  },
  {
   "cell_type": "code",
   "execution_count": 5,
   "metadata": {},
   "outputs": [
    {
     "name": "stdout",
     "output_type": "stream",
     "text": [
      "3.141565734658547\n"
     ]
    }
   ],
   "source": [
    "import time \n",
    "\n",
    "t_beg=time.time() \n",
    "\n",
    "pi =3\n",
    "numerator = 4 \n",
    "minus_count=2\n",
    "i=2\n",
    "\n",
    "number_of_terms_wanted=20\n",
    "\n",
    "\n",
    "while i<=2*number_of_terms_wanted:\n",
    "    pi = pi + (-1)**(minus_count)*numerator/(i*(i+1)*(i+2))\n",
    "    i+=2\n",
    "    minus_count+=1\n",
    "\n",
    "print(pi)\n",
    "\n",
    "t_end = time.time()-t_beg\n",
    "print(t_end)"
   ]
  }
 ],
 "metadata": {
  "kernelspec": {
   "display_name": "Python 3 (ipykernel)",
   "language": "python",
   "name": "python3"
  },
  "language_info": {
   "codemirror_mode": {
    "name": "ipython",
    "version": 3
   },
   "file_extension": ".py",
   "mimetype": "text/x-python",
   "name": "python",
   "nbconvert_exporter": "python",
   "pygments_lexer": "ipython3",
   "version": "3.9.6"
  },
  "vscode": {
   "interpreter": {
    "hash": "03f549537fa19b43efbf5aa4d6467b94388b966112c368cc66a2484d89a4a6bd"
   }
  }
 },
 "nbformat": 4,
 "nbformat_minor": 4
}
